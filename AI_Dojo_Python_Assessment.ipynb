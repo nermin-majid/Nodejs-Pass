{
  "nbformat": 4,
  "nbformat_minor": 0,
  "metadata": {
    "colab": {
      "provenance": [],
      "include_colab_link": true
    },
    "kernelspec": {
      "name": "python3",
      "display_name": "Python 3"
    },
    "language_info": {
      "name": "python"
    }
  },
  "cells": [
    {
      "cell_type": "markdown",
      "metadata": {
        "id": "view-in-github",
        "colab_type": "text"
      },
      "source": [
        "<a href=\"https://colab.research.google.com/github/nermin-majid/Nodejs-Pass/blob/main/AI_Dojo_Python_Assessment.ipynb\" target=\"_parent\"><img src=\"https://colab.research.google.com/assets/colab-badge.svg\" alt=\"Open In Colab\"/></a>"
      ]
    },
    {
      "cell_type": "code",
      "execution_count": 4,
      "metadata": {
        "id": "nbc9upvImPWI",
        "outputId": "169f28a3-f13b-41e7-d3e7-33ea1f7a162e",
        "colab": {
          "base_uri": "https://localhost:8080/"
        }
      },
      "outputs": [
        {
          "output_type": "stream",
          "name": "stdout",
          "text": [
            "[4, 3, 2, 1]\n",
            "['Welcome', 'to', 'AI', 'Dojo']\n"
          ]
        }
      ],
      "source": [
        "\n",
        "def ai_dojo_rev(a: list) -> list:\n",
        "    # initialize an empty list to store the reversed elements\n",
        "    rev_list = []\n",
        "    # loop through the input list in reverse order\n",
        "    for i in range(len(a)-1, -1, -1):\n",
        "        # append each element to the reversed list\n",
        "        rev_list.append(a[i])\n",
        "    # return the reversed list\n",
        "    return rev_list\n",
        "\n",
        "# test the function with some inputs\n",
        "print(ai_dojo_rev([1,2,3,4]))\n",
        "print(ai_dojo_rev(['Dojo', 'AI', 'to', 'Welcome']))"
      ]
    },
    {
      "cell_type": "markdown",
      "source": [
        "**Expected Output**\n",
        "```\n",
        "[4, 3, 2, 1]\n",
        "['Welcome', 'to', 'AI', 'Dojo']\n",
        "```"
      ],
      "metadata": {
        "id": "QDPVAxsKm6M3"
      }
    }
  ]
}